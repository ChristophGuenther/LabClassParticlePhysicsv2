{
 "cells": [
  {
   "cell_type": "markdown",
   "metadata": {},
   "source": [
    "![RWTH Logo](https://www.rwth-aachen.de/global/show_picture.asp?id=aaaaaaaaaaagazb)\n",
    "\n",
    "# Jupyter Example Profile Quickstart\n",
    "\n",
    "Welcome to JupyterLab!\n",
    "\n",
    "* Execute a single cell: <span class=\"fa-play fa\"></span>\n",
    "* Execute all cells: Menu: Run <span class=\"fa-chevron-right fa\"></span> Run All Cells\n",
    "* To reboot kernel: <span class=\"fa-refresh fa\"></span>\n",
    "\n",
    "Find more in the reference (menu: Help <span class=\"fa-chevron-right fa\"></span> Jupyter Reference)."
   ]
  },
  {
   "cell_type": "markdown",
   "metadata": {},
   "source": [
    "## Markdown\n",
    "\n",
    "You can specify the cell type which is either _Code_ or _Markdown_. \n",
    "\n",
    "### Lists\n",
    "\n",
    "* Like\n",
    "* this\n",
    "  1. We can even nest them like\n",
    "  2. this!\n",
    "* Isn't that wonderfull?\n",
    "  \n",
    "### Images \n",
    "\n",
    "![Newtons cradle](https://upload.wikimedia.org/wikipedia/commons/thumb/d/d3/Newtons_cradle_animation_book_2.gif/200px-Newtons_cradle_animation_book_2.gif)\n",
    "\n",
    "### LaTeX equations\n",
    "\n",
    "$$\\mathrm{e}^{\\mathrm{j} x} = \\cos(x)+\\mathrm{j}\\sin(x)$$\n",
    "\n",
    "### Code\n",
    "\n",
    "``` python\n",
    "print(\"Hello world!\")\n",
    "```\n",
    "\n",
    "### Further reading\n",
    "Read more in the reference (menu: Help <span class=\"fa-chevron-right fa\"></span> Markdown Reference)."
   ]
  },
  {
   "cell_type": "markdown",
   "metadata": {},
   "source": [
    "## Python"
   ]
  },
  {
   "cell_type": "code",
   "execution_count": null,
   "metadata": {},
   "outputs": [],
   "source": [
    "print(\"Hello world!\")"
   ]
  },
  {
   "cell_type": "markdown",
   "metadata": {},
   "source": [
    "## numpy\n",
    "\n",
    "Execute the cell below to see the contents of variable `a`"
   ]
  },
  {
   "cell_type": "code",
   "execution_count": null,
   "metadata": {},
   "outputs": [],
   "source": [
    "import numpy as np\n",
    "\n",
    "a = np.array([0, 1, -5])\n",
    "a"
   ]
  },
  {
   "cell_type": "markdown",
   "metadata": {},
   "source": [
    "## Plots with matplotlib\n",
    "\n",
    "Nice matplotlib [tutorial](https://matplotlib.org/tutorials/introductory/usage.html#sphx-glr-tutorials-introductory-usage-py)"
   ]
  },
  {
   "cell_type": "code",
   "execution_count": null,
   "metadata": {},
   "outputs": [],
   "source": [
    "%matplotlib widget\n",
    "import matplotlib.pyplot as plt\n",
    "from rwth_colors_matplotlib import *\n",
    "\n",
    "fs = 44100;\n",
    "(t, deltat) = np.linspace(-10, 10, 20*fs, retstep=True) # t axis in seconds\n",
    "\n",
    "fig,ax = plt.subplots(); ax.grid();\n",
    "ax.plot(t, np.sin(2*np.pi*t), 'rwth:blue')\n",
    "ax.set_xlabel(r'$t$'); ax.set_ylabel(r'$s(t) = \\sin(2 \\pi t)$'); "
   ]
  },
  {
   "cell_type": "code",
   "execution_count": null,
   "metadata": {},
   "outputs": [],
   "source": [
    "from scipy import misc\n",
    "f = misc.face()\n",
    "\n",
    "fig,ax = plt.subplots();\n",
    "ax.imshow(f);"
   ]
  },
  {
   "cell_type": "markdown",
   "metadata": {},
   "source": [
    "## Interactive Widgets\n",
    "\n",
    "Jupyter Widgets. You can find a detailled widget list [here](https://ipywidgets.readthedocs.io/en/latest/examples/Widget%20List.html).\n",
    "This requires to install [Jupyter Matplotlib](https://github.com/matplotlib/jupyter-matplotlib) which is called with the `%matplotlib widget` magic.\n",
    "\n",
    "Uses Python [decorators](https://docs.python.org/3/glossary.html#term-decorator)."
   ]
  },
  {
   "cell_type": "code",
   "execution_count": null,
   "metadata": {},
   "outputs": [],
   "source": [
    "import ipywidgets as widgets\n",
    "\n",
    "# Create figure\n",
    "fig0, ax0 = plt.subplots(); \n",
    "\n",
    "# Create update function and decorate them with widgets\n",
    "@widgets.interact(F = widgets.FloatSlider(min=0.1, max=10, step=0.1, value=0, description='$F$:'))\n",
    "def update_plot(F): \n",
    "    # Generate signal with given F\n",
    "    s = np.sin(2*np.pi*F*t)\n",
    "          \n",
    "    # Plot\n",
    "    if not ax0.lines: # decorate axes with labels etc. (which is only needed once)\n",
    "        ax0.plot(t, s, 'rwth:blue'); \n",
    "        ax0.set_xlabel(r'$t$'); ax.set_ylabel(r'$s(t)=\\sin(2 \\pi F t)$')\n",
    "    else: # update only lines and leave everything else as is (gives huge speed-up)\n",
    "        ax0.lines[0].set_ydata(s)"
   ]
  },
  {
   "cell_type": "markdown",
   "metadata": {},
   "source": [
    "## Audio"
   ]
  },
  {
   "cell_type": "code",
   "execution_count": null,
   "metadata": {},
   "outputs": [],
   "source": [
    "from IPython.display import Audio, Latex\n",
    "\n",
    "def audio_play(s, fs, txt=\"\", autoplay=False):\n",
    "    if txt: display(Latex(txt))\n",
    "    display(Audio(s, rate=fs, autoplay=autoplay))\n",
    "\n",
    "# Create sin\n",
    "s = np.sin(2*np.pi*440*t)\n",
    "\n",
    "# Play back\n",
    "audio_play(s, fs, r'$s(t)$')"
   ]
  },
  {
   "cell_type": "markdown",
   "metadata": {},
   "source": [
    "## RWTH Colors"
   ]
  },
  {
   "cell_type": "code",
   "execution_count": null,
   "metadata": {},
   "outputs": [],
   "source": [
    "from rwth_colors_matplotlib import *\n",
    "\n",
    "# adapted from https://matplotlib.org/2.0.0/examples/color/named_colors.html\n",
    "colors = rwth_colors;\n",
    "ncols = 5; nrows = len(colors.keys()) // ncols + 1;\n",
    "    \n",
    "fig, ax = plt.subplots()\n",
    "X, Y = fig.get_dpi() * fig.get_size_inches() # Get height and width\n",
    "w = X / ncols; h = Y / (nrows + 1)\n",
    "\n",
    "for i, name in enumerate(colors.keys()):\n",
    "    col = i % ncols\n",
    "    row = i // ncols\n",
    "    y = Y - (row * h) - h\n",
    "    \n",
    "    xi_line = w * (col + 0.05); xf_line = w * (col + 0.25); xi_text = w * (col + 0.3)\n",
    "    ax.text(xi_text, y, name, fontsize=10, horizontalalignment='left', verticalalignment='center')\n",
    "    ax.hlines(y + h * 0.1, xi_line, xf_line, color=colors[name], linewidth=(h * 0.6))\n",
    "    \n",
    "ax.set_xlim(0, X); ax.set_ylim(0, Y); ax.set_axis_off();\n",
    "fig.subplots_adjust(left=0, right=1, top=1, bottom=0, hspace=0, wspace=0)"
   ]
  },
  {
   "cell_type": "markdown",
   "metadata": {},
   "source": [
    "## Magic\n"
   ]
  },
  {
   "cell_type": "code",
   "execution_count": null,
   "metadata": {},
   "outputs": [],
   "source": [
    "%%svg\n",
    "\n",
    "<svg width='300px' height='300px'>\n",
    "\n",
    "<title>Small SVG example</title>\n",
    "\n",
    "<circle cx='120' cy='150' r='60' style='fill: gold;'>\n",
    " <animate attributeName='r' from='2' to='80' begin='0' \n",
    " dur='3' repeatCount='indefinite' /></circle>\n",
    "\n",
    "<polyline points='120 30, 25 150, 290 150' \n",
    " stroke-width='4' stroke='brown' style='fill: none;' />\n",
    "\n",
    "<polygon points='210 100, 210 200, 270 150' \n",
    " style='fill: lawngreen;' /> \n",
    "   \n",
    "<text x='60' y='250' fill='blue'>Hello, World!</text>\n",
    "\n",
    "</svg>"
   ]
  }
 ],
 "metadata": {
  "kernelspec": {
   "display_name": "Python 3",
   "language": "python",
   "name": "python3"
  },
  "language_info": {
   "codemirror_mode": {
    "name": "ipython",
    "version": 3
   },
   "file_extension": ".py",
   "mimetype": "text/x-python",
   "name": "python",
   "nbconvert_exporter": "python",
   "pygments_lexer": "ipython3",
   "version": "3.7.3"
  }
 },
 "nbformat": 4,
 "nbformat_minor": 4
}
